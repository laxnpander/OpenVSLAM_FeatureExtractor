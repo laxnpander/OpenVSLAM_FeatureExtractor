{
 "cells": [
  {
   "cell_type": "code",
   "execution_count": 1,
   "metadata": {},
   "outputs": [],
   "source": [
    "import cvMat\n",
    "import numpy as np\n",
    "import matplotlib.pyplot as plt\n",
    "import imageio\n",
    "%matplotlib inline\n",
    "import cv2"
   ]
  },
  {
   "cell_type": "code",
   "execution_count": 2,
   "metadata": {},
   "outputs": [],
   "source": [
    "img = cv2.imread(\"image.jpg\")\n",
    "#img = cv2.resize(img, dsize=(547,365), interpolation=cv2.INTER_LINEAR)"
   ]
  },
  {
   "cell_type": "code",
   "execution_count": 3,
   "metadata": {},
   "outputs": [],
   "source": [
    "kparray = cvMat.Kmat(img, 3000, 1.2, 8, 15, 3).astype('uint8')"
   ]
  },
  {
   "cell_type": "code",
   "execution_count": 4,
   "metadata": {},
   "outputs": [
    {
     "name": "stdout",
     "output_type": "stream",
     "text": [
      "Help on built-in function Kmat in module cvMat:\n",
      "\n",
      "Kmat(...) method of builtins.PyCapsule instance\n",
      "    Kmat(img: numpy.ndarray, max_num_keyp: int, scale_factor: float, num_levels: int, ini_fast_thr: int, min_fast_thr: int) -> numpy.ndarray\n",
      "    \n",
      "    return keypoint coordinates for input image\n",
      "\n"
     ]
    }
   ],
   "source": [
    "help(cvMat.Kmat)"
   ]
  },
  {
   "cell_type": "code",
   "execution_count": 5,
   "metadata": {},
   "outputs": [
    {
     "data": {
      "text/plain": [
       "3884"
      ]
     },
     "execution_count": 5,
     "metadata": {},
     "output_type": "execute_result"
    }
   ],
   "source": [
    "##number of keypoints\n",
    "kparray.shape[0]"
   ]
  },
  {
   "cell_type": "code",
   "execution_count": 6,
   "metadata": {},
   "outputs": [
    {
     "data": {
      "text/plain": [
       "array([255, 159], dtype=uint8)"
      ]
     },
     "execution_count": 6,
     "metadata": {},
     "output_type": "execute_result"
    }
   ],
   "source": [
    "##acces first keypoint\n",
    "kparray[1,:] "
   ]
  },
  {
   "cell_type": "code",
   "execution_count": 7,
   "metadata": {},
   "outputs": [],
   "source": [
    "##get boolean mask for values to keep\n",
    "mask_r = cvMat.Keypointm(img)\n",
    "mask = mask_r == 1"
   ]
  },
  {
   "cell_type": "code",
   "execution_count": 9,
   "metadata": {},
   "outputs": [
    {
     "name": "stdout",
     "output_type": "stream",
     "text": [
      "Help on built-in function Keypointm in module cvMat:\n",
      "\n",
      "Keypointm(...) method of builtins.PyCapsule instance\n",
      "    Keypointm(img: numpy.ndarray) -> numpy.ndarray\n",
      "    \n",
      "    return keypoint mask for input image\n",
      "\n"
     ]
    }
   ],
   "source": [
    "help(cvMat.Keypointm)"
   ]
  },
  {
   "cell_type": "code",
   "execution_count": null,
   "metadata": {},
   "outputs": [],
   "source": []
  }
 ],
 "metadata": {
  "kernelspec": {
   "display_name": "Python 3",
   "language": "python",
   "name": "python3"
  },
  "language_info": {
   "codemirror_mode": {
    "name": "ipython",
    "version": 3
   },
   "file_extension": ".py",
   "mimetype": "text/x-python",
   "name": "python",
   "nbconvert_exporter": "python",
   "pygments_lexer": "ipython3",
   "version": "3.6.9"
  }
 },
 "nbformat": 4,
 "nbformat_minor": 4
}
